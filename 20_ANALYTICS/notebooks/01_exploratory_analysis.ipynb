{
 "cells": [
  {
   "cell_type": "markdown",
   "metadata": {},
   "source": [
    "# Análise Exploratória de Dados (EDA) - Dataset Iris\n",
    "\n",
    "**Objetivo:** Explorar o dataset Iris para entender suas características, a distribuição das variáveis e as relações entre elas. Esta análise é fundamental para extrair insights e preparar os dados para a modelagem."
   ]
  },
  {
   "cell_type": "code",
   "execution_count": null,
   "metadata": {},
   "outputs": [],
   "source": [
    "# Importação das bibliotecas essenciais\n",
    "import pandas as pd\n",
    "import matplotlib.pyplot as plt\n",
    "import seaborn as sns\n",
    "from sklearn.datasets import load_iris\n",
    "\n",
    "# Configuração para os plots\n",
    "sns.set_theme(style=\"whitegrid\")"
   ]
  },
  {
   "cell_type": "markdown",
   "metadata": {},
   "source": [
    "## 1. Carregamento dos Dados\n",
    "\n",
    "Vamos carregar o dataset Iris diretamente da biblioteca `scikit-learn` e convertê-lo para um DataFrame do pandas, que é mais fácil de manipular."
   ]
  },
  {
   "cell_type": "code",
   "execution_count": null,
   "metadata": {},
   "outputs": [],
   "source": [
    "# Carrega o dataset\n",
    "iris = load_iris()\n",
    "\n",
    "# Cria o DataFrame\n",
    "df = pd.DataFrame(data=iris.data, columns=iris.feature_names)\n",
    "df['species'] = iris.target\n",
    "\n",
    "# Mapeia os números do target para os nomes das espécies\n",
    "species_map = {0: 'setosa', 1: 'versicolor', 2: 'virginica'}\n",
    "df['species_name'] = df['species'].map(species_map)\n",
    "\n",
    "print(\"Dataset carregado com sucesso!\")"
   ]
  },
  {
   "cell_type": "markdown",
   "metadata": {},
   "source": [
    "## 2. Inspeção Inicial dos Dados\n",
    "\n",
    "Vamos verificar as primeiras linhas, os tipos de dados e se há valores nulos."
   ]
  },
  {
   "cell_type": "code",
   "execution_count": null,
   "metadata": {},
   "outputs": [],
   "source": [
    "# Exibe as 5 primeiras linhas\n",
    "df.head()"
   ]
  },
  {
   "cell_type": "code",
   "execution_count": null,
   "metadata": {},
   "outputs": [],
   "source": [
    "# Exibe informações sobre o DataFrame (tipos, valores não-nulos)\n",
    "df.info()"
   ]
  },
  {
   "cell_type": "markdown",
   "metadata": {},
   "source": [
    "## 3. Estatística Descritiva\n",
    "\n",
    "Resumo estatístico para entender a tendência central, dispersão e formato da distribuição de cada variável numérica."
   ]
  },
  {
   "cell_type": "code",
   "execution_count": null,
   "metadata": {},
   "outputs": [],
   "source": [
    "df.describe()"
   ]
  },
  {
   "cell_type": "markdown",
   "metadata": {},
   "source": [
    "## 4. Visualização dos Dados\n",
    "\n",
    "Agora, vamos criar gráficos para visualizar as distribuições e relações.\n",
    "\n",
    "### Pair Plot\n",
    "Um `pairplot` mostra a relação entre cada par de variáveis e a distribuição de cada uma na diagonal. É excelente para uma visão geral rápida."
   ]
  },
  {
   "cell_type": "code",
   "execution_count": null,
   "metadata": {},
   "outputs": [],
   "source": [
    "# O 'hue' colore os pontos de acordo com a espécie da flor\n",
    "sns.pairplot(df.drop('species', axis=1), hue='species_name', palette='viridis', diag_kind='kde')"
   ]
  }
 ],
 "metadata": {
  "kernelspec": {
   "display_name": "Python 3",
   "language": "python",
   "name": "python3"
  },
  "language_info": {
   "codemirror_mode": {
    "name": "ipython",
    "version": 3
   },
   "file_extension": ".py",
   "mimetype": "text/x-python",
   "name": "python",
   "nbconvert_exporter": "python",
   "pygments_lexer": "ipython3",
   "version": "3.11.5"
  }
 },
 "nbformat": 4,
 "nbformat_minor": 4
}
